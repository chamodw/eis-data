{
 "cells": [
  {
   "cell_type": "code",
   "execution_count": 1,
   "id": "a9fd67f3",
   "metadata": {},
   "outputs": [],
   "source": [
    "#\n",
    "\n",
    "\n",
    "# 09/07/2021\n",
    "# Perform PCA on one dataframe and extract the componente\n",
    "# Apply the transromation on other sessions\n",
    "# Fit a cruve to first session PC1 and PC2, and predict next"
   ]
  },
  {
   "cell_type": "code",
   "execution_count": 55,
   "id": "db0a35c9",
   "metadata": {},
   "outputs": [
    {
     "data": {
      "text/plain": [
       "<matplotlib.pyplot._IoffContext at 0x10304f8e0>"
      ]
     },
     "execution_count": 55,
     "metadata": {},
     "output_type": "execute_result"
    }
   ],
   "source": [
    "#%config InlineBackend.figure_format = 'jpeg'\n",
    "%matplotlib widget\n",
    "\n",
    "\n",
    "import pandas as pd\n",
    "import matplotlib.pyplot as plt\n",
    "import numpy as np\n",
    "import scipy as sp\n",
    "from sklearn.preprocessing import scale \n",
    "from sklearn import model_selection\n",
    "from sklearn.decomposition import PCA\n",
    "from sklearn.linear_model import LinearRegression\n",
    "from sklearn.cross_decomposition import PLSRegression, PLSSVD\n",
    "from sklearn.metrics import mean_squared_error\n",
    "from scipy.interpolate import lagranget\n",
    "\n",
    "plt.ioff()"
   ]
  },
  {
   "cell_type": "markdown",
   "id": "30d18050",
   "metadata": {},
   "source": [
    "%%html\n",
    "<style>\n",
    ".output_svg div{\n",
    "  width: 75% !important;\n",
    "  height: 75% ;\n",
    "}\n",
    "</style>"
   ]
  },
  {
   "cell_type": "code",
   "execution_count": 39,
   "id": "2ced490f",
   "metadata": {},
   "outputs": [],
   "source": [
    "#Takes a dataframe as input and retuarns the PCA\n",
    "# Data frame is formatted as \n",
    "# freq .625 1.25 2.50 5.00\n",
    "# 100  ...  ...  ... ...    \n",
    "# 101  ...  ...  ... ...\n",
    "# ...  ...  ...  ... ...\n",
    "def getPCA(df):\n",
    "    y1 = pd.Series([0, 0.625, 1.25, 2.5, 5, 10])\n",
    "    #Y = df1.loc[len(df1)-1]; #\n",
    "    X1_ = df.drop(['freq'], axis = 1)\n",
    "    X1 = X1_.transpose(); # \n",
    "\n",
    "    display(X1)\n",
    "    \n",
    "    pca = PCA(n_components = 2)\n",
    "    X1_reduced = pca.fit_transform(scale(X1))\n",
    "\n",
    "    df_pca = pd.DataFrame(pca.components_.T)\n",
    "   \n",
    "    \n",
    "    #plt.plot(np.cumsum(pca.explained_variance_ratio_))\n",
    "    print((pca.explained_variance_ratio_))\n",
    "\n",
    "    plt.plot(X1_reduced)\n",
    "    plt.show()\n",
    "    return (df_pca, X1_reduced)\n",
    "\n",
    "\n",
    "def applyPCA(df_pca, df_data):\n",
    "    df_out = pd.DataFrame()\n",
    "    for i in df2:\n",
    "        if (i == 'freq'):\n",
    "            continue\n",
    "        \n",
    "        df_out[i] = (df_data[i].dot(df_pca))\n",
    "    return df_out\n",
    "\n",
    "\n",
    "    "
   ]
  },
  {
   "cell_type": "code",
   "execution_count": 80,
   "id": "aae8de7f",
   "metadata": {},
   "outputs": [
    {
     "data": {
      "application/vnd.jupyter.widget-view+json": {
       "model_id": "21efd739a3e44d02b393df81b7a31658",
       "version_major": 2,
       "version_minor": 0
      },
      "text/plain": [
       "Canvas(toolbar=Toolbar(toolitems=[('Home', 'Reset original view', 'home', 'home'), ('Back', 'Back to previous …"
      ]
     },
     "metadata": {},
     "output_type": "display_data"
    },
    {
     "data": {
      "application/vnd.jupyter.widget-view+json": {
       "model_id": "6efe0001ced54f79b46c08fcc30204af",
       "version_major": 2,
       "version_minor": 0
      },
      "text/plain": [
       "Canvas(toolbar=Toolbar(toolitems=[('Home', 'Reset original view', 'home', 'home'), ('Back', 'Back to previous …"
      ]
     },
     "metadata": {},
     "output_type": "display_data"
    },
    {
     "data": {
      "application/vnd.jupyter.widget-view+json": {
       "model_id": "57010c81c59342aa9ca6f926d569cb4f",
       "version_major": 2,
       "version_minor": 0
      },
      "text/plain": [
       "Canvas(toolbar=Toolbar(toolitems=[('Home', 'Reset original view', 'home', 'home'), ('Back', 'Back to previous …"
      ]
     },
     "metadata": {},
     "output_type": "display_data"
    },
    {
     "data": {
      "application/vnd.jupyter.widget-view+json": {
       "model_id": "185719160233455cb365711bd0b5b6ab",
       "version_major": 2,
       "version_minor": 0
      },
      "text/plain": [
       "Canvas(toolbar=Toolbar(toolitems=[('Home', 'Reset original view', 'home', 'home'), ('Back', 'Back to previous …"
      ]
     },
     "metadata": {},
     "output_type": "display_data"
    }
   ],
   "source": [
    "\n",
    "\n",
    "\n",
    "df1 = pd.read_csv('../june-18/all_mag_csv/small_nh4no3_1_mag.csv', skiprows = 3,index_col=0)\n",
    "df2 = pd.read_csv('../june-18/all_mag_csv/small_nano3_2_mag.csv', skiprows = 3,index_col=0)\n",
    "df3 = pd.read_csv('../june-18/all_mag_csv/small_nano2_3_mag.csv', skiprows = 3,index_col=0)\n",
    "df4 = pd.read_csv('../june-18/all_mag_csv/small_nh4no3_4_mag.csv', skiprows = 3,index_col=0)\n",
    "df5 = pd.read_csv('../25june/small_nh4no3_1/small_nh4no3_1_mag.csv', skiprows = 3,index_col=0)\n",
    "\n",
    "#load phase data\n",
    "dfp1 = pd.read_csv('../june-18/small_nh4no3_1/small_nh4no3_1_phase.csv', skiprows = 3,index_col=0)\n",
    "dfp2 = pd.read_csv('../june-18/small_nano3_2/small_nano3_2_phase.csv', skiprows = 3,index_col=0)\n",
    "dfp3 = pd.read_csv('../june-18/small_nano2_3/small_nano2_3_phase.csv', skiprows = 3,index_col=0)\n",
    "\n",
    "dfp4 = pd.read_csv('../25june/small_nh4no3_ph_6/small_nh4no3_ph_6_phase.csv', skiprows = 3,index_col=0)\n",
    "\n",
    "dfp1.plot(x='freq')\n",
    "dfp2.plot(x='freq')\n",
    "dfp3.plot(x='freq')\n",
    "dfp4.plot(x='freq')\n",
    "plt.show()"
   ]
  },
  {
   "cell_type": "code",
   "execution_count": 50,
   "id": "83630190",
   "metadata": {
    "scrolled": true
   },
   "outputs": [
    {
     "data": {
      "text/html": [
       "<div>\n",
       "<style scoped>\n",
       "    .dataframe tbody tr th:only-of-type {\n",
       "        vertical-align: middle;\n",
       "    }\n",
       "\n",
       "    .dataframe tbody tr th {\n",
       "        vertical-align: top;\n",
       "    }\n",
       "\n",
       "    .dataframe thead th {\n",
       "        text-align: right;\n",
       "    }\n",
       "</style>\n",
       "<table border=\"1\" class=\"dataframe\">\n",
       "  <thead>\n",
       "    <tr style=\"text-align: right;\">\n",
       "      <th></th>\n",
       "      <th>0</th>\n",
       "      <th>1</th>\n",
       "      <th>2</th>\n",
       "      <th>3</th>\n",
       "      <th>4</th>\n",
       "      <th>5</th>\n",
       "      <th>6</th>\n",
       "      <th>7</th>\n",
       "      <th>8</th>\n",
       "      <th>9</th>\n",
       "      <th>...</th>\n",
       "      <th>290</th>\n",
       "      <th>291</th>\n",
       "      <th>292</th>\n",
       "      <th>293</th>\n",
       "      <th>294</th>\n",
       "      <th>295</th>\n",
       "      <th>296</th>\n",
       "      <th>297</th>\n",
       "      <th>298</th>\n",
       "      <th>299</th>\n",
       "    </tr>\n",
       "  </thead>\n",
       "  <tbody>\n",
       "    <tr>\n",
       "      <th>0.625</th>\n",
       "      <td>1.526</td>\n",
       "      <td>1.516</td>\n",
       "      <td>1.506</td>\n",
       "      <td>1.498</td>\n",
       "      <td>1.491</td>\n",
       "      <td>1.483</td>\n",
       "      <td>1.477</td>\n",
       "      <td>1.470</td>\n",
       "      <td>1.464</td>\n",
       "      <td>1.459</td>\n",
       "      <td>...</td>\n",
       "      <td>1.385</td>\n",
       "      <td>1.385</td>\n",
       "      <td>1.386</td>\n",
       "      <td>1.386</td>\n",
       "      <td>1.386</td>\n",
       "      <td>1.387</td>\n",
       "      <td>1.387</td>\n",
       "      <td>1.387</td>\n",
       "      <td>1.387</td>\n",
       "      <td>1.388</td>\n",
       "    </tr>\n",
       "    <tr>\n",
       "      <th>1.25</th>\n",
       "      <td>1.465</td>\n",
       "      <td>1.454</td>\n",
       "      <td>1.445</td>\n",
       "      <td>1.439</td>\n",
       "      <td>1.432</td>\n",
       "      <td>1.425</td>\n",
       "      <td>1.420</td>\n",
       "      <td>1.415</td>\n",
       "      <td>1.409</td>\n",
       "      <td>1.405</td>\n",
       "      <td>...</td>\n",
       "      <td>1.371</td>\n",
       "      <td>1.372</td>\n",
       "      <td>1.372</td>\n",
       "      <td>1.373</td>\n",
       "      <td>1.373</td>\n",
       "      <td>1.374</td>\n",
       "      <td>1.374</td>\n",
       "      <td>1.375</td>\n",
       "      <td>1.375</td>\n",
       "      <td>1.375</td>\n",
       "    </tr>\n",
       "    <tr>\n",
       "      <th>2.5</th>\n",
       "      <td>1.423</td>\n",
       "      <td>1.413</td>\n",
       "      <td>1.405</td>\n",
       "      <td>1.399</td>\n",
       "      <td>1.393</td>\n",
       "      <td>1.387</td>\n",
       "      <td>1.382</td>\n",
       "      <td>1.377</td>\n",
       "      <td>1.372</td>\n",
       "      <td>1.368</td>\n",
       "      <td>...</td>\n",
       "      <td>1.368</td>\n",
       "      <td>1.368</td>\n",
       "      <td>1.369</td>\n",
       "      <td>1.370</td>\n",
       "      <td>1.370</td>\n",
       "      <td>1.371</td>\n",
       "      <td>1.371</td>\n",
       "      <td>1.372</td>\n",
       "      <td>1.372</td>\n",
       "      <td>1.373</td>\n",
       "    </tr>\n",
       "    <tr>\n",
       "      <th>5.0</th>\n",
       "      <td>1.355</td>\n",
       "      <td>1.348</td>\n",
       "      <td>1.340</td>\n",
       "      <td>1.335</td>\n",
       "      <td>1.330</td>\n",
       "      <td>1.324</td>\n",
       "      <td>1.320</td>\n",
       "      <td>1.316</td>\n",
       "      <td>1.312</td>\n",
       "      <td>1.308</td>\n",
       "      <td>...</td>\n",
       "      <td>1.367</td>\n",
       "      <td>1.368</td>\n",
       "      <td>1.368</td>\n",
       "      <td>1.369</td>\n",
       "      <td>1.370</td>\n",
       "      <td>1.370</td>\n",
       "      <td>1.371</td>\n",
       "      <td>1.372</td>\n",
       "      <td>1.372</td>\n",
       "      <td>1.373</td>\n",
       "    </tr>\n",
       "    <tr>\n",
       "      <th>10.0</th>\n",
       "      <td>1.291</td>\n",
       "      <td>1.287</td>\n",
       "      <td>1.282</td>\n",
       "      <td>1.278</td>\n",
       "      <td>1.274</td>\n",
       "      <td>1.270</td>\n",
       "      <td>1.267</td>\n",
       "      <td>1.265</td>\n",
       "      <td>1.261</td>\n",
       "      <td>1.260</td>\n",
       "      <td>...</td>\n",
       "      <td>1.367</td>\n",
       "      <td>1.368</td>\n",
       "      <td>1.369</td>\n",
       "      <td>1.369</td>\n",
       "      <td>1.370</td>\n",
       "      <td>1.371</td>\n",
       "      <td>1.371</td>\n",
       "      <td>1.372</td>\n",
       "      <td>1.373</td>\n",
       "      <td>1.373</td>\n",
       "    </tr>\n",
       "  </tbody>\n",
       "</table>\n",
       "<p>5 rows × 300 columns</p>\n",
       "</div>"
      ],
      "text/plain": [
       "         0      1      2      3      4      5      6      7      8      9    \\\n",
       "0.625  1.526  1.516  1.506  1.498  1.491  1.483  1.477  1.470  1.464  1.459   \n",
       "1.25   1.465  1.454  1.445  1.439  1.432  1.425  1.420  1.415  1.409  1.405   \n",
       "2.5    1.423  1.413  1.405  1.399  1.393  1.387  1.382  1.377  1.372  1.368   \n",
       "5.0    1.355  1.348  1.340  1.335  1.330  1.324  1.320  1.316  1.312  1.308   \n",
       "10.0   1.291  1.287  1.282  1.278  1.274  1.270  1.267  1.265  1.261  1.260   \n",
       "\n",
       "       ...    290    291    292    293    294    295    296    297    298  \\\n",
       "0.625  ...  1.385  1.385  1.386  1.386  1.386  1.387  1.387  1.387  1.387   \n",
       "1.25   ...  1.371  1.372  1.372  1.373  1.373  1.374  1.374  1.375  1.375   \n",
       "2.5    ...  1.368  1.368  1.369  1.370  1.370  1.371  1.371  1.372  1.372   \n",
       "5.0    ...  1.367  1.368  1.368  1.369  1.370  1.370  1.371  1.372  1.372   \n",
       "10.0   ...  1.367  1.368  1.369  1.369  1.370  1.371  1.371  1.372  1.373   \n",
       "\n",
       "         299  \n",
       "0.625  1.388  \n",
       "1.25   1.375  \n",
       "2.5    1.373  \n",
       "5.0    1.373  \n",
       "10.0   1.373  \n",
       "\n",
       "[5 rows x 300 columns]"
      ]
     },
     "metadata": {},
     "output_type": "display_data"
    },
    {
     "name": "stdout",
     "output_type": "stream",
     "text": [
      "[0.96828646 0.03027613]\n"
     ]
    },
    {
     "data": {
      "image/jpeg": "[encoded data removed]",
      "text/plain": [
       "<Figure size 432x288 with 1 Axes>"
      ]
     },
     "metadata": {
      "needs_background": "light"
     },
     "output_type": "display_data"
    },
    {
     "data": {
      "image/jpeg": "[encoded data removed]",
      "text/plain": [
       "<Figure size 432x288 with 1 Axes>"
      ]
     },
     "metadata": {
      "needs_background": "light"
     },
     "output_type": "display_data"
    },
    {
     "data": {
      "image/jpeg": "[encoded data removed]",
      "text/plain": [
       "<Figure size 432x288 with 1 Axes>"
      ]
     },
     "metadata": {
      "needs_background": "light"
     },
     "output_type": "display_data"
    },
    {
     "data": {
      "image/jpeg": "[encoded data removed]",
      "text/plain": [
       "<Figure size 432x288 with 1 Axes>"
      ]
     },
     "metadata": {
      "needs_background": "light"
     },
     "output_type": "display_data"
    },
    {
     "data": {
      "image/jpeg": "[encoded data removed]",
      "text/plain": [
       "<Figure size 432x288 with 1 Axes>"
      ]
     },
     "metadata": {
      "needs_background": "light"
     },
     "output_type": "display_data"
    }
   ],
   "source": [
    "\n",
    "#df5.plot(x='freq')\n",
    "\n",
    "#df2.plot(x='freq')\n",
    "#(df2_pca, X2_reduced) = getPCA(df2)\n",
    "#df2_pca.plot(title='NH4NO3 - PCA', ylim=(-1,1))\n",
    "#print(X2_reduced)\n",
    "\n",
    "#Get principal components\n",
    "df1_pca, x1_r = getPCA(dfp1)\n",
    "\n",
    "df1_pc = applyPCA(df1_pca, dfp1)\n",
    "df2_pc = applyPCA(df1_pca, dfp2)\n",
    "df4_pc = applyPCA(df1_pca, dfp4)\n",
    "\n",
    "df1_pca.plot()\n",
    "\n",
    "df1_pc.plot()\n",
    "df2_pc.plot()\n",
    "df4_pc.plot()\n",
    "plt.show()"
   ]
  },
  {
   "cell_type": "code",
   "execution_count": 14,
   "id": "5c576174",
   "metadata": {},
   "outputs": [],
   "source": [
    "def expFun(x, K, C, D):\n",
    "    return np.exp(K*(x+C)) + D\n",
    "\n",
    "def polyFun(x, A, B, C, D):\n",
    "    return A*x**3 + B*x**2 + C*x + D;\n",
    " "
   ]
  },
  {
   "cell_type": "code",
   "execution_count": 71,
   "id": "c1bbd246",
   "metadata": {},
   "outputs": [],
   "source": [
    "\n",
    "def curveFitExp(y, ref_values, initial): \n",
    "   \n",
    "    #p = np.poly1d(np.polyfit(ref_values, y, 2))\n",
    "    \n",
    "    opt_params, param_cov = sp.optimize.curve_fit(expFun, ref_values, y, maxfev=2000, p0 = initial)\n",
    "\n",
    "  #  opt_params, cov = sp.optimize.leastsq(func=resid, x0 = np.array([-0.0674492,-2236, 2]), args=(ref_values, y))\n",
    "    \n",
    "    (K,C, D) =  opt_params\n",
    "   # print ('Fitted parameters')\n",
    "    print (opt_params)\n",
    "    \n",
    "    t = np.linspace(min(ref_values), max(ref_values))\n",
    "\n",
    "    predicted = [expFun(x, *opt_params) for x in t]\n",
    "    \n",
    "    if 1:\n",
    "        plt.plot(ref_values, y, marker='|', label = 'Readings')\n",
    "        plt.plot(t, predicted, label = 'Fitted curve')\n",
    "\n",
    "        plt.scatter(ref_values, [expFun(x,K,C,D) for x in ref_values], marker ='x')\n",
    "        plt.title('Fitting exp curve' )\n",
    "        plt.xlabel('Principal Component')\n",
    "        plt.ylabel('nitrate ug/L')\n",
    "        plt.legend()\n",
    "        plt.show()\n",
    "    return opt_params\n",
    "\n",
    "\n",
    "\n",
    "def curveFitPoly(y, ref_values): \n",
    "   \n",
    "    p = np.poly1d(np.polyfit(ref_values, y, 2))\n",
    "    \n",
    "    \n",
    "    #(K,C, D) =  opt_params\n",
    "   # print ('Fitted parameters')\n",
    "    print (opt_params)\n",
    "    \n",
    "    t = np.linspace(min(ref_values), max(ref_values))\n",
    "\n",
    "    predicted = [p(x) for x in t]\n",
    "    \n",
    "    if 1:\n",
    "        plt.plot(ref_values, y, marker='|', label = 'Readings')\n",
    "        plt.plot(t, predicted, label = 'Fitted curve')\n",
    "\n",
    "        plt.plot(ref_values, [p(x) for x in ref_values], marker ='x')\n",
    "        plt.title('Fitting exp curve' )\n",
    "        plt.xlabel('Principal Component')\n",
    "        plt.ylabel('nitrate ug/L')\n",
    "        plt.legend()\n",
    "        plt.show()\n",
    "    return p"
   ]
  },
  {
   "cell_type": "markdown",
   "id": "92bb583c",
   "metadata": {},
   "source": [
    "# Curve-fitting on principal componennts"
   ]
  },
  {
   "cell_type": "code",
   "execution_count": 78,
   "id": "26c87c42",
   "metadata": {},
   "outputs": [
    {
     "name": "stdout",
     "output_type": "stream",
     "text": [
      "[ -3.23288165 -23.01536709   0.74504863]\n"
     ]
    },
    {
     "data": {
      "application/vnd.jupyter.widget-view+json": {
       "model_id": "3d99cf620ee2481082ddc2ddaf935589",
       "version_major": 2,
       "version_minor": 0
      },
      "text/plain": [
       "Canvas(toolbar=Toolbar(toolitems=[('Home', 'Reset original view', 'home', 'home'), ('Back', 'Back to previous …"
      ]
     },
     "metadata": {},
     "output_type": "display_data"
    },
    {
     "name": "stdout",
     "output_type": "stream",
     "text": [
      "[ -3.23288165 -23.01536709   0.74504863]\n"
     ]
    },
    {
     "data": {
      "application/vnd.jupyter.widget-view+json": {
       "model_id": "defde87f35b741b390ae593a1c12b331",
       "version_major": 2,
       "version_minor": 0
      },
      "text/plain": [
       "Canvas(toolbar=Toolbar(toolitems=[('Home', 'Reset original view', 'home', 'home'), ('Back', 'Back to previous …"
      ]
     },
     "metadata": {},
     "output_type": "display_data"
    }
   ],
   "source": [
    " #Dataframe to perform the prediction on\n",
    "ref_df = df1_pc #Dataframe to fit the curves to\n",
    "predict_df = df2_pc #Dataframe to perform the prediction on\n",
    "\n",
    "\n",
    "scale_unknown = False # Scale the unknown data to match reference if true\n",
    "\n",
    "y = [ 0.625, 1.25, 2.5, 5, 10]\n",
    "\n",
    "# Principal component 1\n",
    "\n",
    "#EIS Readings to fit the curve for\n",
    "ref_values = np.array(ref_df.iloc[0].tolist()[0:])\n",
    "# data from a different session to run through the fitted curve\n",
    "comp_values_unscaled = np.array(predict_df.iloc[0].tolist()[0:])\n",
    "\n",
    "\n",
    "if scale_unknown: # scale the unknown variable? \n",
    "    r = ref_values[3]/comp_values_unscaled[3]\n",
    "    comp_values = [x*r for x in comp_values_unscaled]\n",
    "else:\n",
    "    comp_values = comp_values_unscaled\n",
    "\n",
    "#opt_params_0 = curveFitExp(y, ref_values,  np.array([-0.0674492,-38700, 0]))\n",
    "\n",
    "opt_params_0 = curveFitExp(y, ref_values,  np.array([-0.0674492,-22, 0]))\n",
    "#polynomial_0 = curveFitPoly(y, ref_values)    \n",
    "\n",
    "print(opt_params_0)\n",
    "\n",
    "\n",
    "predicted = [expFun(x, *opt_params_0) for x in comp_values]\n",
    "\n",
    "\n",
    "\n",
    "\n",
    "plt.title('Estimated concentrations using PCA')\n",
    "plt.scatter(y, predicted)\n",
    "plt.xlabel('Actual')\n",
    "plt.ylabel('Estimated')\n",
    "plt.plot([0,10],[0,10])\n",
    "plt.show()\n",
    "\n"
   ]
  },
  {
   "cell_type": "markdown",
   "id": "5880bf58",
   "metadata": {},
   "source": [
    "## Curve fitting on magnitude data"
   ]
  },
  {
   "cell_type": "code",
   "execution_count": 75,
   "id": "e43b60ae",
   "metadata": {
    "scrolled": false
   },
   "outputs": [
    {
     "data": {
      "application/vnd.jupyter.widget-view+json": {
       "model_id": "3566e0e5ed2c4abf95d055a54b358cf1",
       "version_major": 2,
       "version_minor": 0
      },
      "text/plain": [
       "Canvas(toolbar=Toolbar(toolitems=[('Home', 'Reset original view', 'home', 'home'), ('Back', 'Back to previous …"
      ]
     },
     "metadata": {},
     "output_type": "display_data"
    },
    {
     "name": "stdout",
     "output_type": "stream",
     "text": [
      "[-1.20680454e+00 -2.20959687e+03  1.87114954e+00]\n"
     ]
    },
    {
     "data": {
      "application/vnd.jupyter.widget-view+json": {
       "model_id": "c76d4d93d41248de9d0c5d5ecf230045",
       "version_major": 2,
       "version_minor": 0
      },
      "text/plain": [
       "Canvas(toolbar=Toolbar(toolitems=[('Home', 'Reset original view', 'home', 'home'), ('Back', 'Back to previous …"
      ]
     },
     "metadata": {},
     "output_type": "display_data"
    },
    {
     "name": "stdout",
     "output_type": "stream",
     "text": [
      "[0.6211495428467659, -0.6243447831161706, 0.10273811163256497, -0.002027541729717086]\n"
     ]
    },
    {
     "data": {
      "application/vnd.jupyter.widget-view+json": {
       "model_id": "4dbee7ad45d643188b121656914cdff4",
       "version_major": 2,
       "version_minor": 0
      },
      "text/plain": [
       "Canvas(toolbar=Toolbar(toolitems=[('Home', 'Reset original view', 'home', 'home'), ('Back', 'Back to previous …"
      ]
     },
     "metadata": {},
     "output_type": "display_data"
    },
    {
     "data": {
      "application/vnd.jupyter.widget-view+json": {
       "model_id": "7ffd6a59987a4108b0a1f4ab818544cb",
       "version_major": 2,
       "version_minor": 0
      },
      "text/plain": [
       "Canvas(toolbar=Toolbar(toolitems=[('Home', 'Reset original view', 'home', 'home'), ('Back', 'Back to previous …"
      ]
     },
     "metadata": {},
     "output_type": "display_data"
    }
   ],
   "source": [
    "ref_df = df1 #Dataframe to fit the curves to\n",
    "predict_df = df4 #Dataframe to perform the prediction on\n",
    "\n",
    "\n",
    "fig, ax = plt.subplots(nrows=1, ncols=2, sharey=True)\n",
    "ref_df.plot(x='freq', ax=ax[0], title='Reference')\n",
    "predict_df.plot(x='freq', ax=ax[1], title='Unknown')\n",
    "plt.show()\n",
    "\n",
    "freq_vs_error = [[],[]]\n",
    "\n",
    "#Produce a 3d plot with all curves\n",
    "plot_3d = False\n",
    "\n",
    "# Scale the unknown readings to one point in the known reading.\n",
    "# Basically calibrating the instrument against one known concentration\n",
    "scale_unknown = 1\n",
    "\n",
    "\n",
    "\n",
    "if (plot_3d):\n",
    "    fig = plt.figure()\n",
    "    ax = fig.add_subplot(111, projection = '3d')\n",
    "\n",
    "\n",
    "# Concentration values in ug/L excluding the 0.625mg/L\n",
    "y=np.array([x/1000 for x in [ 1250, 2500, 5000, 10000]])\n",
    "\n",
    "for idx in range(10,11):\n",
    "    s_freq = ref_df['freq'][idx]\n",
    "\n",
    "    #print('selected frequency ' + str(s_freq))\n",
    "\n",
    "\n",
    "\n",
    "\n",
    "    #EIS Readings to fit the curve for\n",
    "    ref_values = np.array(ref_df.iloc[idx].tolist()[2:])\n",
    "\n",
    "    # data from a different session to run through the fitted curve\n",
    "    comp_values_unscaled = np.array(predict_df.iloc[idx].tolist()[2:])\n",
    "\n",
    "    \n",
    "    if scale_unknown: #scaling\n",
    "        r = ref_values[3]/comp_values_unscaled[3]\n",
    "        comp_values = [x*r for x in comp_values_unscaled]\n",
    "    else:\n",
    "        comp_values = comp_values_unscaled\n",
    "    \n",
    "    opt_params = curveFitExp(y, ref_values,  np.array([-0.0674492,-2260, 0]))\n",
    "\n",
    "    K,C,D = opt_params\n",
    "    \n",
    "    \n",
    " \n",
    "    \n",
    "     #Use the curve on comp_values \n",
    "    predicted = [expFun(x,K,C,D) for x in comp_values];\n",
    "    \n",
    "    \n",
    "    \n",
    "    if(plot_3d):\n",
    "        t = np.linspace(min(ref_values), max(ref_values)+10)\n",
    "        curve = [expFun(x,K,C,D) for x in t];\n",
    "        ax.plot(t, curve, zs=s_freq, zdir='y', color='orange');\n",
    "        ax.plot(comp_values, y, zs=s_freq, zdir='y', color='gray');\n",
    "\n",
    "    \n",
    "\n",
    "   \n",
    "    \n",
    "    if 0:\n",
    "        plt.scatter(y, predicted , marker='x')\n",
    "        plt.plot(y,y);\n",
    "        plt.xlabel('Actual concentration')\n",
    "        plt.ylabel('Predicted concentration')\n",
    "        plt.title('Fitted curve applied to a different session')\n",
    "        plt.show()\n",
    "\n",
    "    error = [(predicted[c]-y[c]) for c in range(len(y))]\n",
    "    freq_vs_error[0].append(s_freq)\n",
    "    freq_vs_error[1].append(error) #append an array containing error at each concentration\n",
    "    print(error)\n",
    "if (plot_3d):\n",
    "    ax.set_xlabel(\"Sensor reading\")\n",
    "    ax.set_ylabel(\"Frequency\")\n",
    "    ax.set_zlabel(\"Concentration\")\n",
    "    plt.show()\n",
    "\n",
    "\n",
    "    \n",
    "    \n",
    "plt.scatter(y, predicted)\n",
    "plt.plot([0,10],[0,10])\n",
    "plt.show()\n",
    "    \n",
    "#plot a error-vs-freq at each concentration\n",
    "for i in range(len(y)):\n",
    "    plt.plot(freq_vs_error[0], [x[i] for x in freq_vs_error[1]], label = str(y[i]), linewidth=1);\n",
    "    \n",
    "#plot square root error\n",
    "plt.plot(freq_vs_error[0], [np.linalg.norm(e) for e in freq_vs_error[1]], label= 'Norm')\n",
    "plt.title('Error when using a single frequency to calculate unknown concentration')\n",
    "plt.xlabel('Frequency')\n",
    "plt.ylabel('Error')\n",
    "plt.legend()\n",
    "plt.grid()\n",
    "#plt.ylim((-5, 5))\n",
    "plt.show()\n",
    "\n",
    "\n"
   ]
  },
  {
   "cell_type": "code",
   "execution_count": null,
   "id": "894025db",
   "metadata": {},
   "outputs": [],
   "source": []
  }
 ],
 "metadata": {
  "kernelspec": {
   "display_name": "Python 3",
   "language": "python",
   "name": "python3"
  },
  "language_info": {
   "codemirror_mode": {
    "name": "ipython",
    "version": 3
   },
   "file_extension": ".py",
   "mimetype": "text/x-python",
   "name": "python",
   "nbconvert_exporter": "python",
   "pygments_lexer": "ipython3",
   "version": "3.9.1"
  }
 },
 "nbformat": 4,
 "nbformat_minor": 5
}
